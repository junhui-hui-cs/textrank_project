{
 "cells": [
  {
   "cell_type": "markdown",
   "metadata": {},
   "source": [
    "### TextRank Implementation"
   ]
  },
  {
   "cell_type": "markdown",
   "metadata": {},
   "source": [
    "TextRank for text summarization focuses on an extractive summarisation approach, where the goal is to select the most important sentences from the text to create a summary. "
   ]
  },
  {
   "cell_type": "markdown",
   "metadata": {},
   "source": [
    "##### Import Libraries"
   ]
  },
  {
   "cell_type": "code",
   "execution_count": 1,
   "metadata": {},
   "outputs": [],
   "source": [
    "import nltk\n",
    "import networkx as nx\n",
    "import numpy as np\n",
    "from nltk.corpus import stopwords\n",
    "from nltk.tokenize import word_tokenize, sent_tokenize\n",
    "from sklearn.metrics.pairwise import cosine_similarity\n",
    "from sklearn.feature_extraction.text import TfidfVectorizer"
   ]
  },
  {
   "cell_type": "markdown",
   "metadata": {},
   "source": [
    "Download necessary NLTK data files"
   ]
  },
  {
   "cell_type": "code",
   "execution_count": 2,
   "metadata": {},
   "outputs": [
    {
     "name": "stdout",
     "output_type": "stream",
     "text": [
      "showing info https://raw.githubusercontent.com/nltk/nltk_data/gh-pages/index.xml\n",
      "showing info https://raw.githubusercontent.com/nltk/nltk_data/gh-pages/index.xml\n"
     ]
    },
    {
     "data": {
      "text/plain": [
       "True"
      ]
     },
     "execution_count": 2,
     "metadata": {},
     "output_type": "execute_result"
    }
   ],
   "source": [
    "import nltk.data\n",
    "\n",
    "nltk.download()"
   ]
  },
  {
   "cell_type": "markdown",
   "metadata": {},
   "source": [
    "##### Text Preprocessing"
   ]
  },
  {
   "cell_type": "code",
   "execution_count": 3,
   "metadata": {},
   "outputs": [],
   "source": [
    "# Remove stopwords and tokenize\n",
    "def preprocess_text(text):\n",
    "    stop_words = set(stopwords.words('english'))\n",
    "    # Tokenize sentences and words\n",
    "    sentences = sent_tokenize(text)\n",
    "    words = word_tokenize(text.lower())\n",
    "    \n",
    "    # Remove stopwords and non-alphabetic tokens\n",
    "    words = [word for word in words if word.isalpha() and word not in stop_words]\n",
    "    \n",
    "    return sentences, words\n",
    "\n",
    "# Create similarity matrix\n",
    "def sentence_similarity_matrix(sentences, threshold=0.1):\n",
    "    # Vectorize sentences using TF-IDF\n",
    "    tfidf = TfidfVectorizer(stop_words='english')\n",
    "    tfidf_matrix = tfidf.fit_transform(sentences)\n",
    "    \n",
    "    # Compute cosine similarity matrix\n",
    "    sim_matrix = cosine_similarity(tfidf_matrix)\n",
    "    \n",
    "    # Apply similarity threshold: zero out values below the threshold\n",
    "    sim_matrix[sim_matrix < threshold] = 0\n",
    "    \n",
    "    return sim_matrix\n"
   ]
  },
  {
   "cell_type": "markdown",
   "metadata": {},
   "source": [
    "##### Basic TextRank Algorithm"
   ]
  },
  {
   "cell_type": "code",
   "execution_count": null,
   "metadata": {},
   "outputs": [],
   "source": [
    "# TextRank Algo, default damping factor of 0.85 and max iteration set to 100\n",
    "def textrank_with_params(text, top_n=3, damping_factor=0.85, max_iter=100, similarity_threshold=0.1):\n",
    "    sentences, words = preprocess_text(text)\n",
    "    \n",
    "    # Create similarity matrix with threshold\n",
    "    sim_matrix = sentence_similarity_matrix(sentences, threshold=similarity_threshold)\n",
    "    \n",
    "    # Build graph\n",
    "    graph = nx.from_numpy_array(sim_matrix)\n",
    "    \n",
    "    # Apply PageRank\n",
    "    scores = nx.pagerank(graph, alpha=damping_factor, max_iter=max_iter)\n",
    "    \n",
    "    # Sort sentences by rank scores\n",
    "    ranked_sentences = sorted(((score, sentence) for sentence, score in zip(sentences, scores.values())), reverse=True)\n",
    "    \n",
    "    # Return top n ranked sentences\n",
    "    return [sentence for score, sentence in ranked_sentences[:top_n]]"
   ]
  },
  {
   "cell_type": "markdown",
   "metadata": {},
   "source": [
    "Text (Input Data)"
   ]
  },
  {
   "cell_type": "code",
   "execution_count": 5,
   "metadata": {},
   "outputs": [
    {
     "name": "stdout",
     "output_type": "stream",
     "text": [
      " \n",
      "\n",
      "In recent decades, technology has radically transformed many aspects of our lives, and education is no exception. The integration of technological tools and resources into educational environments has had profound effects on the way students learn, teachers teach, and schools operate. From online learning platforms to virtual classrooms and digital textbooks, technology has expanded the possibilities for education in both formal and informal settings. This article explores the various ways technology has impacted education, highlighting the advantages and challenges of its integration.\n",
      "\n",
      "One of the most significant changes technology has brought to education is the **ability to access information**. In the past, students had limited access to learning resources, often relying solely on textbooks, lectures, and physical libraries. With the advent of the internet, students now have access to a wealth of information at their fingertips. Educational websites, online journals, and e-books provide students with an almost limitless supply of knowledge. This shift has made education more inclusive, as it allows students from diverse backgrounds to access learning materials without being limited by geographical location or financial constraints.\n",
      "\n",
      "Moreover, technology has enabled the development of **interactive learning tools**. Traditional classrooms often relied on passive learning methods, such as reading from a textbook or listening to lectures. However, the use of multimedia, simulations, and interactive software has transformed how students engage with material. For example, virtual laboratories in science education allow students to conduct experiments that would be difficult or impossible to perform in a physical classroom. Likewise, educational games and apps can reinforce concepts in mathematics, language learning, and other subjects in a fun and engaging way. These tools help cater to different learning styles, ensuring that all students can benefit from personalized learning experiences.\n",
      "\n",
      "Another major benefit of technology in education is the rise of **online learning platforms**. Online education has made it possible for individuals to earn degrees, certifications, and skills from the comfort of their own homes. Platforms such as Coursera, edX, and Khan Academy offer free and paid courses that are accessible to people worldwide. This has opened up education to a much broader audience, including working adults, non-traditional students, and those who live in remote or underserved areas. Online learning has the potential to democratize education, providing opportunities for people who might not have otherwise had access to traditional, brick-and-mortar institutions.\n",
      "\n",
      "In addition to improving access and learning experiences, technology has also facilitated **better communication and collaboration** in education. Tools such as video conferencing, instant messaging, and collaborative platforms like Google Docs and Slack allow students and teachers to communicate and work together regardless of physical location. In classrooms, technology enables students to collaborate on projects, share resources, and provide feedback to one another in real time. This fosters a sense of community and teamwork, which is vital for both academic success and social development.\n",
      "\n",
      "However, despite the many advantages, the integration of technology in education also presents several challenges. One of the most significant obstacles is the **digital divide**. While technology has made education more accessible to many, it has also highlighted disparities in access to devices and the internet. In lower-income communities and rural areas, students may not have the same access to the technology required for modern learning. This inequality can exacerbate existing educational disparities, making it more difficult for some students to succeed. As such, ensuring equal access to technology is critical to its success in education.\n",
      "\n",
      "Another challenge is the **over-reliance on technology**. While technology can enhance learning, it can also lead to students becoming overly dependent on digital devices. Some critics argue that excessive screen time can negatively impact students' attention spans, social skills, and ability to retain information. Furthermore, the use of technology in classrooms can sometimes distract students from the material being taught, leading to disengagement and a lack of focus. Teachers must find a balance between using technology effectively and maintaining traditional teaching methods to ensure that students are receiving a well-rounded education.\n",
      "\n",
      "**Privacy and security** are also concerns with the increased use of technology in education. With the rise of online learning platforms and digital tools, students' personal data is being collected and stored more than ever before. Schools and educational institutions must take steps to protect this data from breaches and misuse. Additionally, students may face risks from cyberbullying or inappropriate content online. As such, it's essential for educational institutions to have clear policies and practices in place to protect students' privacy and ensure safe online environments.\n",
      "\n",
      "The rapid pace of technological advancement also presents a **challenge for educators**. Many teachers may not have the necessary training or resources to effectively integrate technology into their teaching practices. Professional development opportunities for teachers are crucial to ensure that they are equipped to use technology in ways that enhance learning outcomes. Without adequate support, educators may struggle to incorporate new technologies effectively, which could hinder the benefits of technology in the classroom.\n",
      "\n",
      "Despite these challenges, there is no doubt that technology will continue to play an increasingly central role in education. As new technologies emerge, they will provide new opportunities for enhancing teaching and learning. Artificial intelligence, for example, has the potential to create personalized learning experiences for students, adjusting the content and pace of lessons based on individual progress. Virtual reality and augmented reality could revolutionize fields like science, history, and geography by immersing students in interactive environments. These advancements hold the potential to transform education even further, making learning more engaging, effective, and accessible.\n",
      "\n",
      "In conclusion, technology has significantly impacted the field of education, providing numerous benefits such as greater access to information, interactive learning experiences, and improved communication. However, its integration also presents challenges such as the digital divide, over-reliance on devices, and privacy concerns. As technology continues to evolve, it is essential for educators, policymakers, and communities to address these challenges and ensure that technology is used in ways that enhance educational opportunities for all students.\n",
      "\n",
      "\n",
      "\n"
     ]
    }
   ],
   "source": [
    "text = \"\"\" \n",
    "\n",
    "In recent decades, technology has radically transformed many aspects of our lives, and education is no exception. The integration of technological tools and resources into educational environments has had profound effects on the way students learn, teachers teach, and schools operate. From online learning platforms to virtual classrooms and digital textbooks, technology has expanded the possibilities for education in both formal and informal settings. This article explores the various ways technology has impacted education, highlighting the advantages and challenges of its integration.\n",
    "\n",
    "One of the most significant changes technology has brought to education is the **ability to access information**. In the past, students had limited access to learning resources, often relying solely on textbooks, lectures, and physical libraries. With the advent of the internet, students now have access to a wealth of information at their fingertips. Educational websites, online journals, and e-books provide students with an almost limitless supply of knowledge. This shift has made education more inclusive, as it allows students from diverse backgrounds to access learning materials without being limited by geographical location or financial constraints.\n",
    "\n",
    "Moreover, technology has enabled the development of **interactive learning tools**. Traditional classrooms often relied on passive learning methods, such as reading from a textbook or listening to lectures. However, the use of multimedia, simulations, and interactive software has transformed how students engage with material. For example, virtual laboratories in science education allow students to conduct experiments that would be difficult or impossible to perform in a physical classroom. Likewise, educational games and apps can reinforce concepts in mathematics, language learning, and other subjects in a fun and engaging way. These tools help cater to different learning styles, ensuring that all students can benefit from personalized learning experiences.\n",
    "\n",
    "Another major benefit of technology in education is the rise of **online learning platforms**. Online education has made it possible for individuals to earn degrees, certifications, and skills from the comfort of their own homes. Platforms such as Coursera, edX, and Khan Academy offer free and paid courses that are accessible to people worldwide. This has opened up education to a much broader audience, including working adults, non-traditional students, and those who live in remote or underserved areas. Online learning has the potential to democratize education, providing opportunities for people who might not have otherwise had access to traditional, brick-and-mortar institutions.\n",
    "\n",
    "In addition to improving access and learning experiences, technology has also facilitated **better communication and collaboration** in education. Tools such as video conferencing, instant messaging, and collaborative platforms like Google Docs and Slack allow students and teachers to communicate and work together regardless of physical location. In classrooms, technology enables students to collaborate on projects, share resources, and provide feedback to one another in real time. This fosters a sense of community and teamwork, which is vital for both academic success and social development.\n",
    "\n",
    "However, despite the many advantages, the integration of technology in education also presents several challenges. One of the most significant obstacles is the **digital divide**. While technology has made education more accessible to many, it has also highlighted disparities in access to devices and the internet. In lower-income communities and rural areas, students may not have the same access to the technology required for modern learning. This inequality can exacerbate existing educational disparities, making it more difficult for some students to succeed. As such, ensuring equal access to technology is critical to its success in education.\n",
    "\n",
    "Another challenge is the **over-reliance on technology**. While technology can enhance learning, it can also lead to students becoming overly dependent on digital devices. Some critics argue that excessive screen time can negatively impact students' attention spans, social skills, and ability to retain information. Furthermore, the use of technology in classrooms can sometimes distract students from the material being taught, leading to disengagement and a lack of focus. Teachers must find a balance between using technology effectively and maintaining traditional teaching methods to ensure that students are receiving a well-rounded education.\n",
    "\n",
    "**Privacy and security** are also concerns with the increased use of technology in education. With the rise of online learning platforms and digital tools, students' personal data is being collected and stored more than ever before. Schools and educational institutions must take steps to protect this data from breaches and misuse. Additionally, students may face risks from cyberbullying or inappropriate content online. As such, it's essential for educational institutions to have clear policies and practices in place to protect students' privacy and ensure safe online environments.\n",
    "\n",
    "The rapid pace of technological advancement also presents a **challenge for educators**. Many teachers may not have the necessary training or resources to effectively integrate technology into their teaching practices. Professional development opportunities for teachers are crucial to ensure that they are equipped to use technology in ways that enhance learning outcomes. Without adequate support, educators may struggle to incorporate new technologies effectively, which could hinder the benefits of technology in the classroom.\n",
    "\n",
    "Despite these challenges, there is no doubt that technology will continue to play an increasingly central role in education. As new technologies emerge, they will provide new opportunities for enhancing teaching and learning. Artificial intelligence, for example, has the potential to create personalized learning experiences for students, adjusting the content and pace of lessons based on individual progress. Virtual reality and augmented reality could revolutionize fields like science, history, and geography by immersing students in interactive environments. These advancements hold the potential to transform education even further, making learning more engaging, effective, and accessible.\n",
    "\n",
    "In conclusion, technology has significantly impacted the field of education, providing numerous benefits such as greater access to information, interactive learning experiences, and improved communication. However, its integration also presents challenges such as the digital divide, over-reliance on devices, and privacy concerns. As technology continues to evolve, it is essential for educators, policymakers, and communities to address these challenges and ensure that technology is used in ways that enhance educational opportunities for all students.\n",
    "\n",
    "\n",
    "\"\"\"\n",
    "\n",
    "print(text)"
   ]
  },
  {
   "cell_type": "markdown",
   "metadata": {},
   "source": [
    "##### Test on basic algorithm"
   ]
  },
  {
   "cell_type": "code",
   "execution_count": 6,
   "metadata": {},
   "outputs": [
    {
     "name": "stdout",
     "output_type": "stream",
     "text": [
      "Basic TextRank Implementation:\n",
      "However, its integration also presents challenges such as the digital divide, over-reliance on devices, and privacy concerns.\n",
      "With the rise of online learning platforms and digital tools, students' personal data is being collected and stored more than ever before.\n",
      "Another major benefit of technology in education is the rise of **online learning platforms**.\n"
     ]
    }
   ],
   "source": [
    "print(\"Basic TextRank Implementation:\")\n",
    "top_sentences = textrank_with_params(text, top_n=3)\n",
    "for sentence in top_sentences:\n",
    "    print(sentence)"
   ]
  },
  {
   "cell_type": "code",
   "execution_count": 7,
   "metadata": {},
   "outputs": [
    {
     "name": "stderr",
     "output_type": "stream",
     "text": [
      "c:\\Users\\junhu\\textrank_project\\textrank_env\\lib\\site-packages\\tqdm\\auto.py:21: TqdmWarning: IProgress not found. Please update jupyter and ipywidgets. See https://ipywidgets.readthedocs.io/en/stable/user_install.html\n",
      "  from .autonotebook import tqdm as notebook_tqdm\n"
     ]
    },
    {
     "name": "stdout",
     "output_type": "stream",
     "text": [
      "{'generated_summary': \"However, its integration also presents challenges such as the digital divide, over-reliance on devices, and privacy concerns. With the rise of online learning platforms and digital tools, students' personal data is being collected and stored more than ever before. Another major benefit of technology in education is the rise of **online learning platforms**.\", 'semantic_similarity': 0.7019906044006348, 'compression_ratio': 0.05386178861788618}\n",
      "\n",
      "Semantic Similarity: 0.7020\n",
      "Compression Ratio: 0.0539\n"
     ]
    }
   ],
   "source": [
    "from rouge_score import rouge_scorer\n",
    "from sentence_transformers import SentenceTransformer, util\n",
    "\n",
    "# Load once\n",
    "semantic_model = SentenceTransformer('all-MiniLM-L6-v2')\n",
    "rouge = rouge_scorer.RougeScorer(['rouge1', 'rouge2', 'rougeL'], use_stemmer=True)\n",
    "\n",
    "def evaluate_summary(text, generated_summary, reference_summary=None):\n",
    "    results = {\n",
    "        'generated_summary': generated_summary\n",
    "    }\n",
    "\n",
    "    # Evaluate using ROUGE if reference is available\n",
    "    if reference_summary:\n",
    "        scores = rouge.score(reference_summary, generated_summary)\n",
    "        results['rouge1_f1'] = scores['rouge1'].fmeasure\n",
    "        results['rouge2_f1'] = scores['rouge2'].fmeasure\n",
    "        results['rougeL_f1'] = scores['rougeL'].fmeasure\n",
    "    else:\n",
    "        # Semantic similarity with the full text\n",
    "        emb_full = semantic_model.encode(text, convert_to_tensor=True)\n",
    "        emb_sum = semantic_model.encode(generated_summary, convert_to_tensor=True)\n",
    "        similarity = util.pytorch_cos_sim(emb_full, emb_sum).item()\n",
    "        results['semantic_similarity'] = similarity\n",
    "\n",
    "    # Compression Ratio\n",
    "    results['compression_ratio'] = len(generated_summary.split()) / len(text.split())\n",
    "\n",
    "    return results\n",
    "\n",
    "# Generate summary\n",
    "summary_sentences = textrank_with_params(text, top_n=3)\n",
    "generated_summary = ' '.join(summary_sentences)\n",
    "\n",
    "# Evaluate\n",
    "metrics = evaluate_summary(text, generated_summary)\n",
    "print(metrics)\n",
    "print(f\"\\nSemantic Similarity: {metrics['semantic_similarity']:.4f}\")\n",
    "print(f\"Compression Ratio: {metrics['compression_ratio']:.4f}\")"
   ]
  },
  {
   "cell_type": "markdown",
   "metadata": {},
   "source": [
    "### Experimentation on PageRank parameters"
   ]
  },
  {
   "cell_type": "markdown",
   "metadata": {},
   "source": [
    "##### Different damping functions"
   ]
  },
  {
   "cell_type": "code",
   "execution_count": 8,
   "metadata": {},
   "outputs": [],
   "source": [
    "# Function to experiment with different damping factors\n",
    "def experiment_with_damping(text, top_n=3, reference_summary=None):\n",
    "    damping_factors = [0.1, 0.5, 0.85, 0.99]\n",
    "    for d in damping_factors:\n",
    "        print(\"=\" * 60)\n",
    "        print(f\"Results with Damping Factor = {d}:\")\n",
    "        \n",
    "        # Generate summary\n",
    "        top_sentences = textrank_with_params(text, top_n=top_n, damping_factor=d)\n",
    "        generated_summary = ' '.join(top_sentences)\n",
    "        \n",
    "        # Print summary sentences\n",
    "        for i, sentence in enumerate(top_sentences, 1):\n",
    "            print(f\"{i}. {sentence}\")\n",
    "        \n",
    "        # Evaluate\n",
    "        metrics = evaluate_summary(text, generated_summary, reference_summary)\n",
    "        \n",
    "        # Print metrics\n",
    "        if reference_summary:\n",
    "            print(\"\\nROUGE Scores:\")\n",
    "            print(f\"  ROUGE-1 F1: {metrics['rouge1_f1']:.4f}\")\n",
    "            print(f\"  ROUGE-2 F1: {metrics['rouge2_f1']:.4f}\")\n",
    "            print(f\"  ROUGE-L F1: {metrics['rougeL_f1']:.4f}\")\n",
    "        else:\n",
    "            print(f\"\\nSemantic Similarity: {metrics['semantic_similarity']:.4f}\")\n",
    "        \n",
    "        print(f\"Compression Ratio: {metrics['compression_ratio']:.4f}\")"
   ]
  },
  {
   "cell_type": "code",
   "execution_count": 9,
   "metadata": {},
   "outputs": [
    {
     "name": "stdout",
     "output_type": "stream",
     "text": [
      "\n",
      "Experimenting with Different Damping Factors:\n",
      "============================================================\n",
      "Results with Damping Factor = 0.1:\n",
      "1. However, its integration also presents challenges such as the digital divide, over-reliance on devices, and privacy concerns.\n",
      "2. With the rise of online learning platforms and digital tools, students' personal data is being collected and stored more than ever before.\n",
      "3. While technology has made education more accessible to many, it has also highlighted disparities in access to devices and the internet.\n",
      "\n",
      "Semantic Similarity: 0.7169\n",
      "Compression Ratio: 0.0610\n",
      "============================================================\n",
      "Results with Damping Factor = 0.5:\n",
      "1. However, its integration also presents challenges such as the digital divide, over-reliance on devices, and privacy concerns.\n",
      "2. With the rise of online learning platforms and digital tools, students' personal data is being collected and stored more than ever before.\n",
      "3. While technology has made education more accessible to many, it has also highlighted disparities in access to devices and the internet.\n",
      "\n",
      "Semantic Similarity: 0.7169\n",
      "Compression Ratio: 0.0610\n",
      "============================================================\n",
      "Results with Damping Factor = 0.85:\n",
      "1. However, its integration also presents challenges such as the digital divide, over-reliance on devices, and privacy concerns.\n",
      "2. With the rise of online learning platforms and digital tools, students' personal data is being collected and stored more than ever before.\n",
      "3. Another major benefit of technology in education is the rise of **online learning platforms**.\n",
      "\n",
      "Semantic Similarity: 0.7020\n",
      "Compression Ratio: 0.0539\n",
      "============================================================\n",
      "Results with Damping Factor = 0.99:\n",
      "1. However, its integration also presents challenges such as the digital divide, over-reliance on devices, and privacy concerns.\n",
      "2. With the rise of online learning platforms and digital tools, students' personal data is being collected and stored more than ever before.\n",
      "3. However, despite the many advantages, the integration of technology in education also presents several challenges.\n",
      "\n",
      "Semantic Similarity: 0.7067\n",
      "Compression Ratio: 0.0549\n"
     ]
    }
   ],
   "source": [
    "print(\"\\nExperimenting with Different Damping Factors:\")\n",
    "experiment_with_damping(text, top_n=3)"
   ]
  },
  {
   "cell_type": "markdown",
   "metadata": {},
   "source": [
    "The damping factor in the PageRank algorithm controls how much influence a sentence’s neighbors (similar sentences) have on its ranking. A higher damping factor gives more weight to sentences that are strongly connected to others, meaning similar sentences will rank higher together. This can drastically change the rankings as TextRank works based on the sentence relationships (edges between nodes in the graph). The general damping factor used is 0.85."
   ]
  },
  {
   "cell_type": "markdown",
   "metadata": {},
   "source": [
    "##### Different max iterations"
   ]
  },
  {
   "cell_type": "code",
   "execution_count": 10,
   "metadata": {},
   "outputs": [],
   "source": [
    "def experiment_with_iterations(text, top_n=3):\n",
    "    iteration_limits = [10, 100, 500, 1000]\n",
    "    for limit in iteration_limits:\n",
    "        print(f\"\\nResults with Max Iterations = {limit}:\")\n",
    "        top_sentences = textrank_with_params(text, top_n=top_n, max_iter=limit)\n",
    "        for sentence in top_sentences:\n",
    "            print(sentence)"
   ]
  },
  {
   "cell_type": "code",
   "execution_count": 11,
   "metadata": {},
   "outputs": [
    {
     "name": "stdout",
     "output_type": "stream",
     "text": [
      "\n",
      "Experimenting with Different Max Iterations:\n",
      "\n",
      "Results with Max Iterations = 10:\n"
     ]
    },
    {
     "ename": "PowerIterationFailedConvergence",
     "evalue": "(PowerIterationFailedConvergence(...), 'power iteration failed to converge within 10 iterations')",
     "output_type": "error",
     "traceback": [
      "\u001b[1;31m---------------------------------------------------------------------------\u001b[0m",
      "\u001b[1;31mPowerIterationFailedConvergence\u001b[0m           Traceback (most recent call last)",
      "Cell \u001b[1;32mIn[11], line 2\u001b[0m\n\u001b[0;32m      1\u001b[0m \u001b[38;5;28mprint\u001b[39m(\u001b[38;5;124m\"\u001b[39m\u001b[38;5;130;01m\\n\u001b[39;00m\u001b[38;5;124mExperimenting with Different Max Iterations:\u001b[39m\u001b[38;5;124m\"\u001b[39m)\n\u001b[1;32m----> 2\u001b[0m \u001b[43mexperiment_with_iterations\u001b[49m\u001b[43m(\u001b[49m\u001b[43mtext\u001b[49m\u001b[43m,\u001b[49m\u001b[43m \u001b[49m\u001b[43mtop_n\u001b[49m\u001b[38;5;241;43m=\u001b[39;49m\u001b[38;5;241;43m3\u001b[39;49m\u001b[43m)\u001b[49m\n",
      "Cell \u001b[1;32mIn[10], line 5\u001b[0m, in \u001b[0;36mexperiment_with_iterations\u001b[1;34m(text, top_n)\u001b[0m\n\u001b[0;32m      3\u001b[0m \u001b[38;5;28;01mfor\u001b[39;00m limit \u001b[38;5;129;01min\u001b[39;00m iteration_limits:\n\u001b[0;32m      4\u001b[0m     \u001b[38;5;28mprint\u001b[39m(\u001b[38;5;124mf\u001b[39m\u001b[38;5;124m\"\u001b[39m\u001b[38;5;130;01m\\n\u001b[39;00m\u001b[38;5;124mResults with Max Iterations = \u001b[39m\u001b[38;5;132;01m{\u001b[39;00mlimit\u001b[38;5;132;01m}\u001b[39;00m\u001b[38;5;124m:\u001b[39m\u001b[38;5;124m\"\u001b[39m)\n\u001b[1;32m----> 5\u001b[0m     top_sentences \u001b[38;5;241m=\u001b[39m \u001b[43mtextrank_with_params\u001b[49m\u001b[43m(\u001b[49m\u001b[43mtext\u001b[49m\u001b[43m,\u001b[49m\u001b[43m \u001b[49m\u001b[43mtop_n\u001b[49m\u001b[38;5;241;43m=\u001b[39;49m\u001b[43mtop_n\u001b[49m\u001b[43m,\u001b[49m\u001b[43m \u001b[49m\u001b[43mmax_iter\u001b[49m\u001b[38;5;241;43m=\u001b[39;49m\u001b[43mlimit\u001b[49m\u001b[43m)\u001b[49m\n\u001b[0;32m      6\u001b[0m     \u001b[38;5;28;01mfor\u001b[39;00m sentence \u001b[38;5;129;01min\u001b[39;00m top_sentences:\n\u001b[0;32m      7\u001b[0m         \u001b[38;5;28mprint\u001b[39m(sentence)\n",
      "Cell \u001b[1;32mIn[4], line 12\u001b[0m, in \u001b[0;36mtextrank_with_params\u001b[1;34m(text, top_n, damping_factor, max_iter, similarity_threshold)\u001b[0m\n\u001b[0;32m      9\u001b[0m graph \u001b[38;5;241m=\u001b[39m nx\u001b[38;5;241m.\u001b[39mfrom_numpy_array(sim_matrix)\n\u001b[0;32m     11\u001b[0m \u001b[38;5;66;03m# Apply PageRank (TextRank) with damping factor and max iterations\u001b[39;00m\n\u001b[1;32m---> 12\u001b[0m scores \u001b[38;5;241m=\u001b[39m \u001b[43mnx\u001b[49m\u001b[38;5;241;43m.\u001b[39;49m\u001b[43mpagerank\u001b[49m\u001b[43m(\u001b[49m\u001b[43mgraph\u001b[49m\u001b[43m,\u001b[49m\u001b[43m \u001b[49m\u001b[43malpha\u001b[49m\u001b[38;5;241;43m=\u001b[39;49m\u001b[43mdamping_factor\u001b[49m\u001b[43m,\u001b[49m\u001b[43m \u001b[49m\u001b[43mmax_iter\u001b[49m\u001b[38;5;241;43m=\u001b[39;49m\u001b[43mmax_iter\u001b[49m\u001b[43m)\u001b[49m\n\u001b[0;32m     14\u001b[0m \u001b[38;5;66;03m# Sort sentences by rank scores\u001b[39;00m\n\u001b[0;32m     15\u001b[0m ranked_sentences \u001b[38;5;241m=\u001b[39m \u001b[38;5;28msorted\u001b[39m(((score, sentence) \u001b[38;5;28;01mfor\u001b[39;00m sentence, score \u001b[38;5;129;01min\u001b[39;00m \u001b[38;5;28mzip\u001b[39m(sentences, scores\u001b[38;5;241m.\u001b[39mvalues())), reverse\u001b[38;5;241m=\u001b[39m\u001b[38;5;28;01mTrue\u001b[39;00m)\n",
      "File \u001b[1;32m<class 'networkx.utils.decorators.argmap'> compilation 16:3\u001b[0m, in \u001b[0;36margmap_pagerank_13\u001b[1;34m(G, alpha, personalization, max_iter, tol, nstart, weight, dangling, backend, **backend_kwargs)\u001b[0m\n\u001b[0;32m      1\u001b[0m \u001b[38;5;28;01mimport\u001b[39;00m\u001b[38;5;250m \u001b[39m\u001b[38;5;21;01mbz2\u001b[39;00m\n\u001b[0;32m      2\u001b[0m \u001b[38;5;28;01mimport\u001b[39;00m\u001b[38;5;250m \u001b[39m\u001b[38;5;21;01mcollections\u001b[39;00m\n\u001b[1;32m----> 3\u001b[0m \u001b[38;5;28;01mimport\u001b[39;00m\u001b[38;5;250m \u001b[39m\u001b[38;5;21;01mgzip\u001b[39;00m\n\u001b[0;32m      4\u001b[0m \u001b[38;5;28;01mimport\u001b[39;00m\u001b[38;5;250m \u001b[39m\u001b[38;5;21;01minspect\u001b[39;00m\n\u001b[0;32m      5\u001b[0m \u001b[38;5;28;01mimport\u001b[39;00m\u001b[38;5;250m \u001b[39m\u001b[38;5;21;01mitertools\u001b[39;00m\n",
      "File \u001b[1;32mc:\\Users\\junhu\\textrank_project\\textrank_env\\lib\\site-packages\\networkx\\utils\\backends.py:967\u001b[0m, in \u001b[0;36m_dispatchable.__call__\u001b[1;34m(self, backend, *args, **kwargs)\u001b[0m\n\u001b[0;32m    965\u001b[0m     \u001b[38;5;28;01mif\u001b[39;00m backend \u001b[38;5;129;01mis\u001b[39;00m \u001b[38;5;129;01mnot\u001b[39;00m \u001b[38;5;28;01mNone\u001b[39;00m \u001b[38;5;129;01mand\u001b[39;00m backend \u001b[38;5;241m!=\u001b[39m \u001b[38;5;124m\"\u001b[39m\u001b[38;5;124mnetworkx\u001b[39m\u001b[38;5;124m\"\u001b[39m:\n\u001b[0;32m    966\u001b[0m         \u001b[38;5;28;01mraise\u001b[39;00m \u001b[38;5;167;01mImportError\u001b[39;00m(\u001b[38;5;124mf\u001b[39m\u001b[38;5;124m\"\u001b[39m\u001b[38;5;124m'\u001b[39m\u001b[38;5;132;01m{\u001b[39;00mbackend\u001b[38;5;132;01m}\u001b[39;00m\u001b[38;5;124m'\u001b[39m\u001b[38;5;124m backend is not installed\u001b[39m\u001b[38;5;124m\"\u001b[39m)\n\u001b[1;32m--> 967\u001b[0m     \u001b[38;5;28;01mreturn\u001b[39;00m \u001b[38;5;28mself\u001b[39m\u001b[38;5;241m.\u001b[39morig_func(\u001b[38;5;241m*\u001b[39margs, \u001b[38;5;241m*\u001b[39m\u001b[38;5;241m*\u001b[39mkwargs)\n\u001b[0;32m    969\u001b[0m \u001b[38;5;66;03m# Use `backend_name` in this function instead of `backend`.\u001b[39;00m\n\u001b[0;32m    970\u001b[0m \u001b[38;5;66;03m# This is purely for aesthetics and to make it easier to search for this\u001b[39;00m\n\u001b[0;32m    971\u001b[0m \u001b[38;5;66;03m# variable since \"backend\" is used in many comments and log/error messages.\u001b[39;00m\n\u001b[0;32m    972\u001b[0m backend_name \u001b[38;5;241m=\u001b[39m backend\n",
      "File \u001b[1;32mc:\\Users\\junhu\\textrank_project\\textrank_env\\lib\\site-packages\\networkx\\algorithms\\link_analysis\\pagerank_alg.py:111\u001b[0m, in \u001b[0;36mpagerank\u001b[1;34m(G, alpha, personalization, max_iter, tol, nstart, weight, dangling)\u001b[0m\n\u001b[0;32m     10\u001b[0m \u001b[38;5;129m@nx\u001b[39m\u001b[38;5;241m.\u001b[39m_dispatchable(edge_attrs\u001b[38;5;241m=\u001b[39m\u001b[38;5;124m\"\u001b[39m\u001b[38;5;124mweight\u001b[39m\u001b[38;5;124m\"\u001b[39m)\n\u001b[0;32m     11\u001b[0m \u001b[38;5;28;01mdef\u001b[39;00m\u001b[38;5;250m \u001b[39m\u001b[38;5;21mpagerank\u001b[39m(\n\u001b[0;32m     12\u001b[0m     G,\n\u001b[1;32m   (...)\u001b[0m\n\u001b[0;32m     19\u001b[0m     dangling\u001b[38;5;241m=\u001b[39m\u001b[38;5;28;01mNone\u001b[39;00m,\n\u001b[0;32m     20\u001b[0m ):\n\u001b[0;32m     21\u001b[0m \u001b[38;5;250m    \u001b[39m\u001b[38;5;124;03m\"\"\"Returns the PageRank of the nodes in the graph.\u001b[39;00m\n\u001b[0;32m     22\u001b[0m \n\u001b[0;32m     23\u001b[0m \u001b[38;5;124;03m    PageRank computes a ranking of the nodes in the graph G based on\u001b[39;00m\n\u001b[1;32m   (...)\u001b[0m\n\u001b[0;32m    109\u001b[0m \n\u001b[0;32m    110\u001b[0m \u001b[38;5;124;03m    \"\"\"\u001b[39;00m\n\u001b[1;32m--> 111\u001b[0m     \u001b[38;5;28;01mreturn\u001b[39;00m \u001b[43m_pagerank_scipy\u001b[49m\u001b[43m(\u001b[49m\n\u001b[0;32m    112\u001b[0m \u001b[43m        \u001b[49m\u001b[43mG\u001b[49m\u001b[43m,\u001b[49m\u001b[43m \u001b[49m\u001b[43malpha\u001b[49m\u001b[43m,\u001b[49m\u001b[43m \u001b[49m\u001b[43mpersonalization\u001b[49m\u001b[43m,\u001b[49m\u001b[43m \u001b[49m\u001b[43mmax_iter\u001b[49m\u001b[43m,\u001b[49m\u001b[43m \u001b[49m\u001b[43mtol\u001b[49m\u001b[43m,\u001b[49m\u001b[43m \u001b[49m\u001b[43mnstart\u001b[49m\u001b[43m,\u001b[49m\u001b[43m \u001b[49m\u001b[43mweight\u001b[49m\u001b[43m,\u001b[49m\u001b[43m \u001b[49m\u001b[43mdangling\u001b[49m\n\u001b[0;32m    113\u001b[0m \u001b[43m    \u001b[49m\u001b[43m)\u001b[49m\n",
      "File \u001b[1;32mc:\\Users\\junhu\\textrank_project\\textrank_env\\lib\\site-packages\\networkx\\algorithms\\link_analysis\\pagerank_alg.py:500\u001b[0m, in \u001b[0;36m_pagerank_scipy\u001b[1;34m(G, alpha, personalization, max_iter, tol, nstart, weight, dangling)\u001b[0m\n\u001b[0;32m    498\u001b[0m     \u001b[38;5;28;01mif\u001b[39;00m err \u001b[38;5;241m<\u001b[39m N \u001b[38;5;241m*\u001b[39m tol:\n\u001b[0;32m    499\u001b[0m         \u001b[38;5;28;01mreturn\u001b[39;00m \u001b[38;5;28mdict\u001b[39m(\u001b[38;5;28mzip\u001b[39m(nodelist, \u001b[38;5;28mmap\u001b[39m(\u001b[38;5;28mfloat\u001b[39m, x)))\n\u001b[1;32m--> 500\u001b[0m \u001b[38;5;28;01mraise\u001b[39;00m nx\u001b[38;5;241m.\u001b[39mPowerIterationFailedConvergence(max_iter)\n",
      "\u001b[1;31mPowerIterationFailedConvergence\u001b[0m: (PowerIterationFailedConvergence(...), 'power iteration failed to converge within 10 iterations')"
     ]
    }
   ],
   "source": [
    "print(\"\\nExperimenting with Different Max Iterations:\")\n",
    "experiment_with_iterations(text, top_n=3)"
   ]
  },
  {
   "cell_type": "markdown",
   "metadata": {},
   "source": [
    "Error recieved shows that when iterations are too low (e.g. 10), the ranking process will fail to converge and the algorithm is unable to return the highest ranked sentences during text summarization."
   ]
  },
  {
   "cell_type": "code",
   "execution_count": 13,
   "metadata": {},
   "outputs": [],
   "source": [
    "def experiment_with_iterations(text, top_n=3, reference_summary=None):\n",
    "    iteration_limits = [50, 100, 500, 1000]\n",
    "    for limit in iteration_limits:\n",
    "        print(\"=\" * 60)\n",
    "        print(f\"Results with Max Iterations = {limit}:\")\n",
    "        \n",
    "        # Generate summary\n",
    "        top_sentences = textrank_with_params(text, top_n=top_n, max_iter=limit)\n",
    "        generated_summary = ' '.join(top_sentences)\n",
    "        \n",
    "        # Print summary\n",
    "        for i, sentence in enumerate(top_sentences, 1):\n",
    "            print(f\"{i}. {sentence}\")\n",
    "        \n",
    "        # Evaluate\n",
    "        metrics = evaluate_summary(text, generated_summary, reference_summary)\n",
    "        \n",
    "        # Print metrics\n",
    "        if reference_summary:\n",
    "            print(\"\\nROUGE Scores:\")\n",
    "            print(f\"  ROUGE-1 F1: {metrics['rouge1_f1']:.4f}\")\n",
    "            print(f\"  ROUGE-2 F1: {metrics['rouge2_f1']:.4f}\")\n",
    "            print(f\"  ROUGE-L F1: {metrics['rougeL_f1']:.4f}\")\n",
    "        else:\n",
    "            print(f\"\\nSemantic Similarity: {metrics['semantic_similarity']:.4f}\")\n",
    "        \n",
    "        print(f\"Compression Ratio: {metrics['compression_ratio']:.4f}\")\n"
   ]
  },
  {
   "cell_type": "code",
   "execution_count": 14,
   "metadata": {},
   "outputs": [
    {
     "name": "stdout",
     "output_type": "stream",
     "text": [
      "\n",
      "Experimenting with Different Max Iterations:\n",
      "============================================================\n",
      "Results with Max Iterations = 50:\n",
      "1. However, its integration also presents challenges such as the digital divide, over-reliance on devices, and privacy concerns.\n",
      "2. With the rise of online learning platforms and digital tools, students' personal data is being collected and stored more than ever before.\n",
      "3. Another major benefit of technology in education is the rise of **online learning platforms**.\n",
      "\n",
      "Semantic Similarity: 0.7020\n",
      "Compression Ratio: 0.0539\n",
      "============================================================\n",
      "Results with Max Iterations = 100:\n",
      "1. However, its integration also presents challenges such as the digital divide, over-reliance on devices, and privacy concerns.\n",
      "2. With the rise of online learning platforms and digital tools, students' personal data is being collected and stored more than ever before.\n",
      "3. Another major benefit of technology in education is the rise of **online learning platforms**.\n",
      "\n",
      "Semantic Similarity: 0.7020\n",
      "Compression Ratio: 0.0539\n",
      "============================================================\n",
      "Results with Max Iterations = 500:\n",
      "1. However, its integration also presents challenges such as the digital divide, over-reliance on devices, and privacy concerns.\n",
      "2. With the rise of online learning platforms and digital tools, students' personal data is being collected and stored more than ever before.\n",
      "3. Another major benefit of technology in education is the rise of **online learning platforms**.\n",
      "\n",
      "Semantic Similarity: 0.7020\n",
      "Compression Ratio: 0.0539\n",
      "============================================================\n",
      "Results with Max Iterations = 1000:\n",
      "1. However, its integration also presents challenges such as the digital divide, over-reliance on devices, and privacy concerns.\n",
      "2. With the rise of online learning platforms and digital tools, students' personal data is being collected and stored more than ever before.\n",
      "3. Another major benefit of technology in education is the rise of **online learning platforms**.\n",
      "\n",
      "Semantic Similarity: 0.7020\n",
      "Compression Ratio: 0.0539\n"
     ]
    }
   ],
   "source": [
    "print(\"\\nExperimenting with Different Max Iterations:\")\n",
    "experiment_with_iterations(text, top_n=3)"
   ]
  },
  {
   "cell_type": "markdown",
   "metadata": {},
   "source": [
    "Max Iterations: The max iterations parameter controls how many times the PageRank algorithm will iterate through the graph to refine the rankings. If the graph is small (as with short texts) or the graph converges quickly, There might not be much change even if the number of iterations increases.\n",
    "\n",
    "Convergence: The algorithm might have already converged within a smaller number of iterations, meaning that increasing max iterations beyond a certain threshold doesn't produce a significant difference. This often happens when the ranking stabilizes quickly with just a few iterations.\n",
    "\n",
    "Use a Larger Text: The impact of iterations is more noticeable on larger graphs (i.e., longer texts with more sentences). Wwith short articles, the algorithm might converge quickly, and the number of iterations might not matter as much.\n",
    "\n"
   ]
  },
  {
   "cell_type": "markdown",
   "metadata": {},
   "source": [
    "##### Different Similarity Threshold"
   ]
  },
  {
   "cell_type": "code",
   "execution_count": 15,
   "metadata": {},
   "outputs": [],
   "source": [
    "def experiment_with_threshold(text, top_n=3, reference_summary=None):\n",
    "    threshold_limits = [0.1, 0.2, 0.3, 0.5]\n",
    "    for limit in threshold_limits:\n",
    "        print(\"=\" * 60)\n",
    "        print(f\"Results with Similarity Threshold = {limit}:\")\n",
    "        \n",
    "        # Generate summary\n",
    "        top_sentences = textrank_with_params(text, top_n=top_n, similarity_threshold=limit)\n",
    "        generated_summary = ' '.join(top_sentences)\n",
    "        \n",
    "        # Print summary\n",
    "        for i, sentence in enumerate(top_sentences, 1):\n",
    "            print(f\"{i}. {sentence}\")\n",
    "        \n",
    "        # Evaluate\n",
    "        metrics = evaluate_summary(text, generated_summary, reference_summary)\n",
    "        \n",
    "        # Print metrics\n",
    "        if reference_summary:\n",
    "            print(\"\\nROUGE Scores:\")\n",
    "            print(f\"  ROUGE-1 F1: {metrics['rouge1_f1']:.4f}\")\n",
    "            print(f\"  ROUGE-2 F1: {metrics['rouge2_f1']:.4f}\")\n",
    "            print(f\"  ROUGE-L F1: {metrics['rougeL_f1']:.4f}\")\n",
    "        else:\n",
    "            print(f\"\\nSemantic Similarity: {metrics['semantic_similarity']:.4f}\")\n",
    "        \n",
    "        print(f\"Compression Ratio: {metrics['compression_ratio']:.4f}\")"
   ]
  },
  {
   "cell_type": "code",
   "execution_count": 16,
   "metadata": {},
   "outputs": [
    {
     "name": "stdout",
     "output_type": "stream",
     "text": [
      "\n",
      "Experimenting with Different Similarity Threshold:\n",
      "============================================================\n",
      "Results with Similarity Threshold = 0.1:\n",
      "1. However, its integration also presents challenges such as the digital divide, over-reliance on devices, and privacy concerns.\n",
      "2. With the rise of online learning platforms and digital tools, students' personal data is being collected and stored more than ever before.\n",
      "3. Another major benefit of technology in education is the rise of **online learning platforms**.\n",
      "\n",
      "Semantic Similarity: 0.7020\n",
      "Compression Ratio: 0.0539\n",
      "============================================================\n",
      "Results with Similarity Threshold = 0.2:\n",
      "1. However, its integration also presents challenges such as the digital divide, over-reliance on devices, and privacy concerns.\n",
      "2. However, despite the many advantages, the integration of technology in education also presents several challenges.\n",
      "3. Another major benefit of technology in education is the rise of **online learning platforms**.\n",
      "\n",
      "Semantic Similarity: 0.7242\n",
      "Compression Ratio: 0.0467\n",
      "============================================================\n",
      "Results with Similarity Threshold = 0.3:\n",
      "1. However, despite the many advantages, the integration of technology in education also presents several challenges.\n",
      "2. However, its integration also presents challenges such as the digital divide, over-reliance on devices, and privacy concerns.\n",
      "3. With the rise of online learning platforms and digital tools, students' personal data is being collected and stored more than ever before.\n",
      "\n",
      "Semantic Similarity: 0.7104\n",
      "Compression Ratio: 0.0549\n",
      "============================================================\n",
      "Results with Similarity Threshold = 0.5:\n",
      "1. Without adequate support, educators may struggle to incorporate new technologies effectively, which could hinder the benefits of technology in the classroom.\n",
      "2. With the rise of online learning platforms and digital tools, students' personal data is being collected and stored more than ever before.\n",
      "3. With the advent of the internet, students now have access to a wealth of information at their fingertips.\n",
      "\n",
      "Semantic Similarity: 0.7512\n",
      "Compression Ratio: 0.0620\n"
     ]
    }
   ],
   "source": [
    "print(\"\\nExperimenting with Different Similarity Threshold:\")\n",
    "experiment_with_threshold(text, top_n=3)"
   ]
  },
  {
   "cell_type": "markdown",
   "metadata": {},
   "source": [
    "The similarity threshold controls which sentence pairs are considered related enough to be connected in the graph. Higher threshold values will result in fewer connections between sentences, making the graph sparser and possibly more focused on the most important sentences. Lower threshold values will connect more sentences, making the graph denser and considering more subtle relationships."
   ]
  },
  {
   "cell_type": "markdown",
   "metadata": {},
   "source": [
    "### Evaluation of Results"
   ]
  },
  {
   "cell_type": "markdown",
   "metadata": {},
   "source": [
    "Difference in Results when changes to damping factor and similarity threshold was made. However, as long as the algorithm converges, there was no difference in results seen from changing maximum iteration. \n",
    "\n",
    "From the analysis above, a commonly used damping factor of 0.85, a high max iteration = 100 to ensure convergence, and a low similarity threshold of 0.1 should be used to get the best result."
   ]
  },
  {
   "cell_type": "markdown",
   "metadata": {},
   "source": [
    "## Larger State Space"
   ]
  },
  {
   "cell_type": "markdown",
   "metadata": {},
   "source": [
    "Use existing wikipedia articles using wikipedia API"
   ]
  },
  {
   "cell_type": "code",
   "execution_count": 17,
   "metadata": {},
   "outputs": [
    {
     "name": "stdout",
     "output_type": "stream",
     "text": [
      "Artificial intelligence (AI) refers to the capability of computational systems to perform tasks typically associated with human intelligence, such as learning, reasoning, problem-solving, perception, and decision-making. It is a field of research in computer science that develops and studies methods and software that enable machines to perceive their environment and use learning and intelligence to take actions that maximize their chances of achieving defined goals. Such machines may be called AIs.\n",
      "High-profile applications of AI include advanced web search engines (e.g., Google Search); recommendation systems (used by YouTube, Amazon, and Netflix); virtual assistants (e.g., Google Assistant, Siri, and Alexa); autonomous vehicles (e.g., Waymo); generative and creative tools (e.g., ChatGPT and AI art); and superhuman play and analysis in strategy games (e.g., chess and Go). However, many AI applications are not perceived as AI: \"A lot of cutting edge AI has filtered into general applications, often without being called AI because once something becomes useful enough and common enough it's not labeled AI anymore.\"\n",
      "Various subfields of AI research are centered around particular goals and the use of particular tools. The traditional goals of AI research include learning, reasoning, knowledge representation, planning, natural language processing, perception, and support for robotics. General intelligence—the ability to complete any task performed by a human on an at least equal level—is among the field's long-term goals. To reach these goals, AI researchers have adapted and integrated a wide range of techniques, including search and mathematical optimization, formal logic, artificial neural networks, and methods based on statistics, operations research, and economics. AI also draws upon psychology, linguistics, philosophy, neuroscience, and other fields.\n",
      "Artificial intelligence was founded as an academic discipline in 1956, and the field went through multiple cycles of o\n"
     ]
    }
   ],
   "source": [
    "import wikipediaapi\n",
    "\n",
    "# Define your custom User-Agent\n",
    "headers = {\n",
    "    'User-Agent': 'TextSummarizer/1.0 (junhuihuii@gmail.com)'\n",
    "}\n",
    "\n",
    "# Initialize Wikipedia API with custom User-Agent\n",
    "wiki_wiki = wikipediaapi.Wikipedia(user_agent=headers['User-Agent'])\n",
    "\n",
    "# Define function to fetch article\n",
    "def get_wikipedia_article(title):\n",
    "    page = wiki_wiki.page(title)\n",
    "    if page.exists():\n",
    "        return page.text\n",
    "    else:\n",
    "        return None\n",
    "\n",
    "# Example: Fetching the article \"Artificial Intelligence\"\n",
    "article = get_wikipedia_article(\"Artificial Intelligence\")\n",
    "if article:\n",
    "    print(article[:2000])  # Print the first 1000 characters of the article for preview\n",
    "else:\n",
    "    print(\"Article not found!\")\n",
    "\n",
    "\n"
   ]
  },
  {
   "cell_type": "code",
   "execution_count": 18,
   "metadata": {},
   "outputs": [],
   "source": [
    "text = article"
   ]
  },
  {
   "cell_type": "markdown",
   "metadata": {},
   "source": [
    "##### Default TextRank"
   ]
  },
  {
   "cell_type": "code",
   "execution_count": 19,
   "metadata": {},
   "outputs": [
    {
     "name": "stdout",
     "output_type": "stream",
     "text": [
      "============================================================\n",
      "TextRank on Larger State Space:\n",
      "1. General intelligence\n",
      "A machine with artificial general intelligence should be able to solve a wide variety of problems with breadth and versatility similar to human intelligence.\n",
      "2. Machines with intelligence have the potential to use their intelligence to make ethical decisions.\n",
      "3. Deep learning is a type of machine learning that runs inputs through biologically inspired artificial neural networks for all of these types of learning.\n",
      "4. Deep learning\n",
      "Deep learning uses several layers of neurons between the network's inputs and outputs.\n",
      "5. Modern AI programs are given specific goals and use learning and intelligence to achieve them.\n",
      "6. Logic\n",
      "Formal logic is used for reasoning and knowledge representation.\n",
      "7. Neural networks are also used as classifiers.\n",
      "8. There are two very different kinds of search used in AI: state space search and local search.\n",
      "9. There are several kinds of machine learning.\n",
      "10. Learning algorithms for neural networks use local search to choose the weights that will get the right output for each input during training.\n",
      "\n",
      "Semantic Similarity: 0.6596\n",
      "Compression Ratio: 0.0120\n"
     ]
    }
   ],
   "source": [
    "print(\"=\" * 60)\n",
    "print(\"TextRank on Larger State Space:\")\n",
    "\n",
    "# Generate summary\n",
    "top_sentences = textrank_with_params(text, top_n=10, damping_factor=0.85, max_iter=100, similarity_threshold=0.1)\n",
    "generated_summary = ' '.join(top_sentences)\n",
    "\n",
    "# Print the summary sentences\n",
    "for i, sentence in enumerate(top_sentences, 1):\n",
    "    print(f\"{i}. {sentence}\")\n",
    "\n",
    "# Evaluate\n",
    "metrics = evaluate_summary(text, generated_summary, reference_summary=None)  # replace None with reference_summary if available\n",
    "\n",
    "# Print metrics\n",
    "if 'rouge1_f1' in metrics:\n",
    "    print(\"\\nROUGE Scores:\")\n",
    "    print(f\"  ROUGE-1 F1: {metrics['rouge1_f1']:.4f}\")\n",
    "    print(f\"  ROUGE-2 F1: {metrics['rouge2_f1']:.4f}\")\n",
    "    print(f\"  ROUGE-L F1: {metrics['rougeL_f1']:.4f}\")\n",
    "else:\n",
    "    print(f\"\\nSemantic Similarity: {metrics['semantic_similarity']:.4f}\")\n",
    "\n",
    "print(f\"Compression Ratio: {metrics['compression_ratio']:.4f}\")"
   ]
  },
  {
   "cell_type": "markdown",
   "metadata": {},
   "source": [
    "##### Experimenting with different damping factor"
   ]
  },
  {
   "cell_type": "code",
   "execution_count": 20,
   "metadata": {},
   "outputs": [
    {
     "name": "stdout",
     "output_type": "stream",
     "text": [
      "\n",
      "Experimenting with Different Damping Factors (Larger State Space):\n",
      "============================================================\n",
      "Results with Damping Factor = 0.1:\n",
      "1. Machines with intelligence have the potential to use their intelligence to make ethical decisions.\n",
      "2. General intelligence\n",
      "A machine with artificial general intelligence should be able to solve a wide variety of problems with breadth and versatility similar to human intelligence.\n",
      "3. Deep learning is a type of machine learning that runs inputs through biologically inspired artificial neural networks for all of these types of learning.\n",
      "4. Logic\n",
      "Formal logic is used for reasoning and knowledge representation.\n",
      "5. Neural networks are also used as classifiers.\n",
      "6. Deep learning\n",
      "Deep learning uses several layers of neurons between the network's inputs and outputs.\n",
      "7. There are two very different kinds of search used in AI: state space search and local search.\n",
      "8. The decision tree is the simplest and most widely used symbolic machine learning algorithm.\n",
      "9. Learning algorithms for neural networks use local search to choose the weights that will get the right output for each input during training.\n",
      "10. There are several kinds of machine learning.\n",
      "\n",
      "Semantic Similarity: 0.5890\n",
      "Compression Ratio: 0.0119\n",
      "============================================================\n",
      "Results with Damping Factor = 0.5:\n",
      "1. Machines with intelligence have the potential to use their intelligence to make ethical decisions.\n",
      "2. General intelligence\n",
      "A machine with artificial general intelligence should be able to solve a wide variety of problems with breadth and versatility similar to human intelligence.\n",
      "3. Deep learning is a type of machine learning that runs inputs through biologically inspired artificial neural networks for all of these types of learning.\n",
      "4. Logic\n",
      "Formal logic is used for reasoning and knowledge representation.\n",
      "5. Deep learning\n",
      "Deep learning uses several layers of neurons between the network's inputs and outputs.\n",
      "6. Neural networks are also used as classifiers.\n",
      "7. There are two very different kinds of search used in AI: state space search and local search.\n",
      "8. Modern AI programs are given specific goals and use learning and intelligence to achieve them.\n",
      "9. Learning algorithms for neural networks use local search to choose the weights that will get the right output for each input during training.\n",
      "10. There are several kinds of machine learning.\n",
      "\n",
      "Semantic Similarity: 0.6133\n",
      "Compression Ratio: 0.0120\n",
      "============================================================\n",
      "Results with Damping Factor = 0.85:\n",
      "1. General intelligence\n",
      "A machine with artificial general intelligence should be able to solve a wide variety of problems with breadth and versatility similar to human intelligence.\n",
      "2. Machines with intelligence have the potential to use their intelligence to make ethical decisions.\n",
      "3. Deep learning is a type of machine learning that runs inputs through biologically inspired artificial neural networks for all of these types of learning.\n",
      "4. Deep learning\n",
      "Deep learning uses several layers of neurons between the network's inputs and outputs.\n",
      "5. Modern AI programs are given specific goals and use learning and intelligence to achieve them.\n",
      "6. Logic\n",
      "Formal logic is used for reasoning and knowledge representation.\n",
      "7. Neural networks are also used as classifiers.\n",
      "8. There are two very different kinds of search used in AI: state space search and local search.\n",
      "9. There are several kinds of machine learning.\n",
      "10. Learning algorithms for neural networks use local search to choose the weights that will get the right output for each input during training.\n",
      "\n",
      "Semantic Similarity: 0.6596\n",
      "Compression Ratio: 0.0120\n",
      "============================================================\n",
      "Results with Damping Factor = 0.99:\n",
      "1. General intelligence\n",
      "A machine with artificial general intelligence should be able to solve a wide variety of problems with breadth and versatility similar to human intelligence.\n",
      "2. Machines with intelligence have the potential to use their intelligence to make ethical decisions.\n",
      "3. Deep learning is a type of machine learning that runs inputs through biologically inspired artificial neural networks for all of these types of learning.\n",
      "4. Deep learning\n",
      "Deep learning uses several layers of neurons between the network's inputs and outputs.\n",
      "5. Modern AI programs are given specific goals and use learning and intelligence to achieve them.\n",
      "6. Neural networks are also used as classifiers.\n",
      "7. There are two very different kinds of search used in AI: state space search and local search.\n",
      "8. Logic\n",
      "Formal logic is used for reasoning and knowledge representation.\n",
      "9. Narrow vs. general AI\n",
      "AI researchers are divided as to whether to pursue the goals of artificial general intelligence and superintelligence directly or to solve as many specific problems as possible (narrow AI) in hopes these solutions will lead indirectly to the field's long-term goals.\n",
      "10. Learning algorithms for neural networks use local search to choose the weights that will get the right output for each input during training.\n",
      "\n",
      "Semantic Similarity: 0.6665\n",
      "Compression Ratio: 0.0149\n"
     ]
    }
   ],
   "source": [
    "print(\"\\nExperimenting with Different Damping Factors (Larger State Space):\")\n",
    "experiment_with_damping(text, top_n=10)"
   ]
  },
  {
   "cell_type": "markdown",
   "metadata": {},
   "source": [
    "##### Experimenting with different Maximum Iterations"
   ]
  },
  {
   "cell_type": "code",
   "execution_count": 21,
   "metadata": {},
   "outputs": [
    {
     "name": "stdout",
     "output_type": "stream",
     "text": [
      "\n",
      "Experimenting with Different Max Iterations (Larger State Space):\n",
      "============================================================\n",
      "Results with Max Iterations = 50:\n",
      "1. General intelligence\n",
      "A machine with artificial general intelligence should be able to solve a wide variety of problems with breadth and versatility similar to human intelligence.\n",
      "2. Machines with intelligence have the potential to use their intelligence to make ethical decisions.\n",
      "3. Deep learning is a type of machine learning that runs inputs through biologically inspired artificial neural networks for all of these types of learning.\n",
      "4. Deep learning\n",
      "Deep learning uses several layers of neurons between the network's inputs and outputs.\n",
      "5. Modern AI programs are given specific goals and use learning and intelligence to achieve them.\n",
      "6. Logic\n",
      "Formal logic is used for reasoning and knowledge representation.\n",
      "7. Neural networks are also used as classifiers.\n",
      "8. There are two very different kinds of search used in AI: state space search and local search.\n",
      "9. There are several kinds of machine learning.\n",
      "10. Learning algorithms for neural networks use local search to choose the weights that will get the right output for each input during training.\n",
      "\n",
      "Semantic Similarity: 0.6596\n",
      "Compression Ratio: 0.0120\n",
      "============================================================\n",
      "Results with Max Iterations = 100:\n",
      "1. General intelligence\n",
      "A machine with artificial general intelligence should be able to solve a wide variety of problems with breadth and versatility similar to human intelligence.\n",
      "2. Machines with intelligence have the potential to use their intelligence to make ethical decisions.\n",
      "3. Deep learning is a type of machine learning that runs inputs through biologically inspired artificial neural networks for all of these types of learning.\n",
      "4. Deep learning\n",
      "Deep learning uses several layers of neurons between the network's inputs and outputs.\n",
      "5. Modern AI programs are given specific goals and use learning and intelligence to achieve them.\n",
      "6. Logic\n",
      "Formal logic is used for reasoning and knowledge representation.\n",
      "7. Neural networks are also used as classifiers.\n",
      "8. There are two very different kinds of search used in AI: state space search and local search.\n",
      "9. There are several kinds of machine learning.\n",
      "10. Learning algorithms for neural networks use local search to choose the weights that will get the right output for each input during training.\n",
      "\n",
      "Semantic Similarity: 0.6596\n",
      "Compression Ratio: 0.0120\n",
      "============================================================\n",
      "Results with Max Iterations = 500:\n",
      "1. General intelligence\n",
      "A machine with artificial general intelligence should be able to solve a wide variety of problems with breadth and versatility similar to human intelligence.\n",
      "2. Machines with intelligence have the potential to use their intelligence to make ethical decisions.\n",
      "3. Deep learning is a type of machine learning that runs inputs through biologically inspired artificial neural networks for all of these types of learning.\n",
      "4. Deep learning\n",
      "Deep learning uses several layers of neurons between the network's inputs and outputs.\n",
      "5. Modern AI programs are given specific goals and use learning and intelligence to achieve them.\n",
      "6. Logic\n",
      "Formal logic is used for reasoning and knowledge representation.\n",
      "7. Neural networks are also used as classifiers.\n",
      "8. There are two very different kinds of search used in AI: state space search and local search.\n",
      "9. There are several kinds of machine learning.\n",
      "10. Learning algorithms for neural networks use local search to choose the weights that will get the right output for each input during training.\n",
      "\n",
      "Semantic Similarity: 0.6596\n",
      "Compression Ratio: 0.0120\n",
      "============================================================\n",
      "Results with Max Iterations = 1000:\n",
      "1. General intelligence\n",
      "A machine with artificial general intelligence should be able to solve a wide variety of problems with breadth and versatility similar to human intelligence.\n",
      "2. Machines with intelligence have the potential to use their intelligence to make ethical decisions.\n",
      "3. Deep learning is a type of machine learning that runs inputs through biologically inspired artificial neural networks for all of these types of learning.\n",
      "4. Deep learning\n",
      "Deep learning uses several layers of neurons between the network's inputs and outputs.\n",
      "5. Modern AI programs are given specific goals and use learning and intelligence to achieve them.\n",
      "6. Logic\n",
      "Formal logic is used for reasoning and knowledge representation.\n",
      "7. Neural networks are also used as classifiers.\n",
      "8. There are two very different kinds of search used in AI: state space search and local search.\n",
      "9. There are several kinds of machine learning.\n",
      "10. Learning algorithms for neural networks use local search to choose the weights that will get the right output for each input during training.\n",
      "\n",
      "Semantic Similarity: 0.6596\n",
      "Compression Ratio: 0.0120\n"
     ]
    }
   ],
   "source": [
    "print(\"\\nExperimenting with Different Max Iterations (Larger State Space):\")\n",
    "experiment_with_iterations(text, top_n=10)"
   ]
  },
  {
   "cell_type": "markdown",
   "metadata": {},
   "source": [
    "##### Experimenting with different Similarity Threshold"
   ]
  },
  {
   "cell_type": "code",
   "execution_count": 22,
   "metadata": {},
   "outputs": [
    {
     "name": "stdout",
     "output_type": "stream",
     "text": [
      "\n",
      "Experimenting with Different Similarity Threshold (Larger State Space):\n",
      "============================================================\n",
      "Results with Similarity Threshold = 0.1:\n",
      "1. General intelligence\n",
      "A machine with artificial general intelligence should be able to solve a wide variety of problems with breadth and versatility similar to human intelligence.\n",
      "2. Machines with intelligence have the potential to use their intelligence to make ethical decisions.\n",
      "3. Deep learning is a type of machine learning that runs inputs through biologically inspired artificial neural networks for all of these types of learning.\n",
      "4. Deep learning\n",
      "Deep learning uses several layers of neurons between the network's inputs and outputs.\n",
      "5. Modern AI programs are given specific goals and use learning and intelligence to achieve them.\n",
      "6. Logic\n",
      "Formal logic is used for reasoning and knowledge representation.\n",
      "7. Neural networks are also used as classifiers.\n",
      "8. There are two very different kinds of search used in AI: state space search and local search.\n",
      "9. There are several kinds of machine learning.\n",
      "10. Learning algorithms for neural networks use local search to choose the weights that will get the right output for each input during training.\n",
      "\n",
      "Semantic Similarity: 0.6596\n",
      "Compression Ratio: 0.0120\n",
      "============================================================\n",
      "Results with Similarity Threshold = 0.2:\n",
      "1. There are two very different kinds of search used in AI: state space search and local search.\n",
      "2. Deep learning\n",
      "Deep learning uses several layers of neurons between the network's inputs and outputs.\n",
      "3. Logic\n",
      "Formal logic is used for reasoning and knowledge representation.\n",
      "4. General intelligence\n",
      "A machine with artificial general intelligence should be able to solve a wide variety of problems with breadth and versatility similar to human intelligence.\n",
      "5. Neural networks are also used as classifiers.\n",
      "6. Machine consciousness, sentience, and mind\n",
      "The philosophy of mind does not know whether a machine can have a mind, consciousness and mental states, in the same sense that human beings do.\n",
      "7. Modern AI programs are given specific goals and use learning and intelligence to achieve them.\n",
      "8. Machines with intelligence have the potential to use their intelligence to make ethical decisions.\n",
      "9. Local search\n",
      "Local search uses mathematical optimization to find a solution to a problem.\n",
      "10. GPT\n",
      "Generative pre-trained transformers (GPT) are large language models (LLMs) that generate text based on the semantic relationships between words in sentences.\n",
      "\n",
      "Semantic Similarity: 0.6540\n",
      "Compression Ratio: 0.0130\n",
      "============================================================\n",
      "Results with Similarity Threshold = 0.3:\n",
      "1. Deep learning\n",
      "Deep learning uses several layers of neurons between the network's inputs and outputs.\n",
      "2. There are two very different kinds of search used in AI: state space search and local search.\n",
      "3. While the tools that are now being used to improve lives can also be used by bad actors, \"they can also be used against the bad actors.\"\n",
      "4. There is also the difficulty of knowledge acquisition, the problem of obtaining knowledge for AI applications.\n",
      "5. Neural networks are also used as classifiers.\n",
      "6. Knowledge representation\n",
      "Knowledge representation and knowledge engineering allow AI programs to answer questions intelligently and make deductions about real-world facts.\n",
      "7. Logic\n",
      "Formal logic is used for reasoning and knowledge representation.\n",
      "8. However, the question has become central to the philosophy of mind.\n",
      "9. A network is typically called a deep neural network if it has at least 2 hidden layers.\n",
      "10. It can then choose the action with the maximum expected utility.\n",
      "\n",
      "Semantic Similarity: 0.5812\n",
      "Compression Ratio: 0.0115\n",
      "============================================================\n",
      "Results with Similarity Threshold = 0.5:\n",
      "1. There are two very different kinds of search used in AI: state space search and local search.\n",
      "2. The emissions reduction potential of AI was estimated at 5% of the energy sector emissions, but rebound effects (for example if people will pass from public transport to autonomous cars) can reduce it.\n",
      "3. quiz show exhibition match, IBM's question answering system, Watson, defeated the two greatest Jeopardy!\n",
      "4. champions, Brad Rutter and Ken Jennings, by a significant margin.\n",
      "5. Yann LeCun \"scoffs at his peers' dystopian scenarios of supercharged misinformation and even, eventually, human extinction.\"\n",
      "6. Widely available AI tools can be used by bad actors to develop inexpensive autonomous weapons and, if produced at scale, they are potentially weapons of mass destruction.\n",
      "7. While the tools that are now being used to improve lives can also be used by bad actors, \"they can also be used against the bad actors.\"\n",
      "8. While human information processing is easy to explain, human subjective experience is difficult to explain.\n",
      "9. When natural language is used to describe mathematical problems, converters can transform such prompts into a formal language such as Lean to define mathematical tasks.\n",
      "10. When a new observation is received, that observation is classified based on previous experience.\n",
      "\n",
      "Semantic Similarity: 0.6625\n",
      "Compression Ratio: 0.0150\n"
     ]
    }
   ],
   "source": [
    "print(\"\\nExperimenting with Different Similarity Threshold (Larger State Space):\")\n",
    "experiment_with_threshold(text, top_n=10)"
   ]
  },
  {
   "cell_type": "markdown",
   "metadata": {},
   "source": [
    "### Evaluation of Results"
   ]
  },
  {
   "cell_type": "markdown",
   "metadata": {},
   "source": [
    "In the exploration of larger state space, we can see that the impact of maximum iteration is almost non-existent in the case of obtaining the top 5 most important sentences. Changes in damping factor only seem to affect the 4th most important sentence onwards and changes in Sentence Similarity Threshold causes the greatest impact in terms of the results of the top 5 most important sentences."
   ]
  },
  {
   "cell_type": "markdown",
   "metadata": {},
   "source": [
    "### Next Step"
   ]
  },
  {
   "cell_type": "markdown",
   "metadata": {},
   "source": [
    "Explore designing a SaaS/ PaaS for NLG applications using TextRank."
   ]
  },
  {
   "cell_type": "markdown",
   "metadata": {},
   "source": [
    "### SaaS (Software-as-a-Servie)"
   ]
  },
  {
   "cell_type": "markdown",
   "metadata": {},
   "source": [
    "1. UI/UX for users\n",
    "2. Text summarization API \n",
    "(allow users to change parameters)\n",
    "3. Deployment to cloud platform\n",
    "4. User Authentication"
   ]
  },
  {
   "cell_type": "markdown",
   "metadata": {},
   "source": []
  }
 ],
 "metadata": {
  "kernelspec": {
   "display_name": "venv",
   "language": "python",
   "name": "python3"
  },
  "language_info": {
   "codemirror_mode": {
    "name": "ipython",
    "version": 3
   },
   "file_extension": ".py",
   "mimetype": "text/x-python",
   "name": "python",
   "nbconvert_exporter": "python",
   "pygments_lexer": "ipython3",
   "version": "3.10.11"
  }
 },
 "nbformat": 4,
 "nbformat_minor": 2
}
